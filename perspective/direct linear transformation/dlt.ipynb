{
 "cells": [
  {
   "cell_type": "code",
   "execution_count": 2,
   "metadata": {},
   "outputs": [],
   "source": [
    "import cv2 as cv\n",
    "import numpy as np"
   ]
  },
  {
   "cell_type": "code",
   "execution_count": 7,
   "metadata": {},
   "outputs": [],
   "source": [
    "image = cv.imread('../images/1.png')\n",
    "\n",
    "# Define points for homography [x, y]\n",
    "# tl, tr, bl, br\n",
    "pts1 = np.float32([[50, 230], [170, 145], [145, 320], [240, 215]])  # cordnation of points in original image for trandformation\n",
    "pts2 = np.float32([[0, 0], [512, 0], [0, 512], [512, 512]])  # cordination of points in target image\n",
    "\n",
    "cv.circle(image, pts1[0].astype(np.uint8), 5, (128, 128, 255), -1)\n",
    "cv.circle(image, pts1[1].astype(np.uint8), 5, (0, 0, 255), -1)\n",
    "cv.circle(image, [240, 215], 5, (0, 255, 0), -1)  # because of weird bugs manualy inputed\n",
    "cv.circle(image, [145, 320], 5, (255, 0, 0), -1)\n",
    "\n",
    "\n",
    "\n",
    "# Calculate the homography matrix\n",
    "matrix, _ = cv.findHomography(pts1, pts2)\n",
    "\n",
    "# Apply the perspective transformation\n",
    "result = cv.warpPerspective(image, matrix, (image.shape[1], image.shape[0]))\n",
    "\n",
    "# Save or display the result\n",
    "# cv.imwrite('homography_result.jpg', result)\n",
    "\n",
    "# show the result\n",
    "cv.imshow(\"img2\", result)\n",
    "cv.imshow(\"img1\", image)\n",
    "cv.waitKey(0)\n",
    "cv.destroyAllWindows()"
   ]
  }
 ],
 "metadata": {
  "kernelspec": {
   "display_name": "base",
   "language": "python",
   "name": "python3"
  },
  "language_info": {
   "codemirror_mode": {
    "name": "ipython",
    "version": 3
   },
   "file_extension": ".py",
   "mimetype": "text/x-python",
   "name": "python",
   "nbconvert_exporter": "python",
   "pygments_lexer": "ipython3",
   "version": "3.11.7"
  }
 },
 "nbformat": 4,
 "nbformat_minor": 2
}
