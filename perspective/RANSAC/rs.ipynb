{
 "cells": [
  {
   "cell_type": "code",
   "execution_count": 2,
   "metadata": {},
   "outputs": [],
   "source": [
    "import cv2 as cv\n",
    "import numpy as np"
   ]
  },
  {
   "cell_type": "code",
   "execution_count": 3,
   "metadata": {},
   "outputs": [],
   "source": [
    "# Load the image\n",
    "image = cv.imread('../images/1.png')\n",
    "\n",
    "# Define source points (corners of a quadrilateral in the image) [x, y]\n",
    "# tl, tr, br, bl\n",
    "src_pts = np.float32([[50, 230], [170, 145], [240, 215], [145, 320]])\n",
    "\n",
    "\n",
    "cv.circle(image, src_pts[0].astype(np.uint8), 5, (128, 128, 255), -1)\n",
    "cv.circle(image, src_pts[1].astype(np.uint8), 5, (0, 0, 255), -1)\n",
    "cv.circle(image, src_pts[2].astype(np.uint8), 5, (0, 255, 0), -1)\n",
    "cv.circle(image, [145, 320], 5, (255, 0, 0), -1)\n",
    "\n",
    "\n",
    "# Define destination points (where the source points should map to)\n",
    "dst_pts = np.float32([[0, 0], [512, 0], [512, 512], [0, 512]])\n",
    "\n",
    "# Add noise to some of the points to simulate outliers\n",
    "# src_pts = np.vstack([src_pts, np.random.rand(5, 2) * [300, 300]])\n",
    "# dst_pts = np.vstack([dst_pts, np.random.rand(5, 2) * [300, 300]])\n",
    "\n",
    "# Compute the homography matrix using RANSAC\n",
    "H, mask = cv.findHomography(src_pts, dst_pts, cv.RANSAC)\n",
    "\n",
    "# Apply the perspective transformation\n",
    "height, width = image.shape[:2]\n",
    "warped_image = cv.warpPerspective(image, H, (width, height))\n",
    "\n",
    "# Display or save the result\n",
    "# cv.imwrite('ransac_homography_result.jpg', warped_image)\n",
    "cv.imshow('Warped Image with RANSAC', warped_image)\n",
    "cv.imshow('Imaga', image)\n",
    "cv.waitKey(0)\n",
    "cv.destroyAllWindows()\n"
   ]
  }
 ],
 "metadata": {
  "kernelspec": {
   "display_name": "base",
   "language": "python",
   "name": "python3"
  },
  "language_info": {
   "codemirror_mode": {
    "name": "ipython",
    "version": 3
   },
   "file_extension": ".py",
   "mimetype": "text/x-python",
   "name": "python",
   "nbconvert_exporter": "python",
   "pygments_lexer": "ipython3",
   "version": "3.11.7"
  }
 },
 "nbformat": 4,
 "nbformat_minor": 2
}
